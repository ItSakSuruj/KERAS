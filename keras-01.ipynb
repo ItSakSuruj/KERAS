{
 "cells": [
  {
   "cell_type": "code",
   "execution_count": 1,
   "id": "b72a8f69",
   "metadata": {},
   "outputs": [],
   "source": [
    "# #\n",
    "# A First look at Neural Network \n",
    "# #Keras is a High level Deep learning API framework for Deep learning Application \n",
    "# ## So Before Getting into Neural Network lets get what is  a Deep Learning Network"
   ]
  },
  {
   "cell_type": "code",
   "execution_count": 1,
   "id": "60b1e6cd",
   "metadata": {},
   "outputs": [],
   "source": [
    "import keras\n",
    "from keras.datasets import mnist\n",
    "##mnist is a preloaded datasets comes with keras"
   ]
  },
  {
   "cell_type": "code",
   "execution_count": 2,
   "id": "3c91c6e5",
   "metadata": {},
   "outputs": [
    {
     "name": "stdout",
     "output_type": "stream",
     "text": [
      "Downloading data from https://storage.googleapis.com/tensorflow/tf-keras-datasets/mnist.npz\n",
      "11490434/11490434 [==============================] - 26s 2us/step\n"
     ]
    }
   ],
   "source": [
    "##Thsese is the training part \n",
    "(train_images, train_labels), (test_images, test_labels) = mnist.load_data()"
   ]
  },
  {
   "cell_type": "code",
   "execution_count": null,
   "id": "6c4ab601",
   "metadata": {},
   "outputs": [],
   "source": [
    "# ##train images and train labels are the trainingv datasets from which the model will learn from .\n",
    "# We will test it on train images and test labels \n",
    "# #We will be encoding as Numpy as Arrays and labes are simply an array of digits  "
   ]
  },
  {
   "cell_type": "code",
   "execution_count": 3,
   "id": "534d66a8",
   "metadata": {},
   "outputs": [
    {
     "data": {
      "text/plain": [
       "(60000, 28, 28)"
      ]
     },
     "execution_count": 3,
     "metadata": {},
     "output_type": "execute_result"
    }
   ],
   "source": [
    "#Lets llok ata our training data\n",
    "train_images.shape"
   ]
  },
  {
   "cell_type": "code",
   "execution_count": 4,
   "id": "e822285d",
   "metadata": {},
   "outputs": [
    {
     "data": {
      "text/plain": [
       "60000"
      ]
     },
     "execution_count": 4,
     "metadata": {},
     "output_type": "execute_result"
    }
   ],
   "source": [
    "## we have got the parametersd of our training datasets\n",
    "\n",
    "#lets get the length of the train labels\n",
    "\n",
    "len(train_labels)"
   ]
  },
  {
   "cell_type": "code",
   "execution_count": 5,
   "id": "b6b625cf",
   "metadata": {},
   "outputs": [
    {
     "data": {
      "text/plain": [
       "array([5, 0, 4, ..., 5, 6, 8], dtype=uint8)"
      ]
     },
     "execution_count": 5,
     "metadata": {},
     "output_type": "execute_result"
    }
   ],
   "source": [
    "train_labels"
   ]
  },
  {
   "cell_type": "code",
   "execution_count": 6,
   "id": "ef021f40",
   "metadata": {},
   "outputs": [
    {
     "data": {
      "text/plain": [
       "(10000, 28, 28)"
      ]
     },
     "execution_count": 6,
     "metadata": {},
     "output_type": "execute_result"
    }
   ],
   "source": [
    "#Lets look at the test data \n",
    "\n",
    "test_images.shape"
   ]
  },
  {
   "cell_type": "code",
   "execution_count": 7,
   "id": "8428a9f2",
   "metadata": {},
   "outputs": [
    {
     "data": {
      "text/plain": [
       "10000"
      ]
     },
     "execution_count": 7,
     "metadata": {},
     "output_type": "execute_result"
    }
   ],
   "source": [
    "len(test_labels)"
   ]
  },
  {
   "cell_type": "code",
   "execution_count": 8,
   "id": "9355edec",
   "metadata": {},
   "outputs": [
    {
     "data": {
      "text/plain": [
       "array([7, 2, 1, ..., 4, 5, 6], dtype=uint8)"
      ]
     },
     "execution_count": 8,
     "metadata": {},
     "output_type": "execute_result"
    }
   ],
   "source": [
    "test_labels"
   ]
  },
  {
   "cell_type": "markdown",
   "id": "feaab4df",
   "metadata": {},
   "source": [
    "Lets see the Approach we are going to work on for our first neural network with the training datasets \n",
    "The network will learn to associate with images and labels \n",
    "#\n",
    "In the End we will ask the network to produce predictions for the test images and verify predictions and labels from test labels"
   ]
  },
  {
   "cell_type": "code",
   "execution_count": 12,
   "id": "0969f5b2",
   "metadata": {},
   "outputs": [],
   "source": [
    "##Lets build the first network\n",
    "from keras import models\n",
    "from keras import layers"
   ]
  },
  {
   "cell_type": "code",
   "execution_count": 14,
   "id": "66f3f23f",
   "metadata": {},
   "outputs": [],
   "source": [
    "network = models.Sequential()\n",
    "network.add(layers.Dense(512, activation='relu', input_shape=(28 * 28 , )))\n",
    "network.add(layers.Dense(10, activation='softmax'))"
   ]
  },
  {
   "cell_type": "markdown",
   "id": "2ffb4951",
   "metadata": {},
   "source": [
    "<!-- For Any Neural Network the core Building is the \"Layer\" , a data-preprocessing module to conceive  a filter \n",
    "Some data comes in and comes out in more useful form . \n",
    "\n",
    "\n",
    "precisely the extract Representaions \n",
    "\n",
    "To make the Neural network consist of  a Sequence we need to pick three more things \n",
    "\n",
    "**An Optimizer\n",
    "**A losss Function \n",
    "**Metrics to monitor during traing and testing\n",
    "\n",
    "# Enough talk lets get coding -->"
   ]
  },
  {
   "cell_type": "code",
   "execution_count": 15,
   "id": "55c6a4a9",
   "metadata": {},
   "outputs": [],
   "source": [
    "network.compile(optimizer='rmsprop', loss='categorical_crossentropy',metrics=['accuracy'])"
   ]
  },
  {
   "cell_type": "code",
   "execution_count": 18,
   "id": "71893071",
   "metadata": {},
   "outputs": [],
   "source": [
    "##Lets deal with data preproccesing \n",
    "\n",
    "train_images = train_images.reshape((60000, 28 * 28))\n",
    "train_images = train_images.astype('float') / 255\n",
    "\n",
    "test_images = test_images.reshape((10000, 28 * 28))\n",
    "test_images = test_images.astype('float') / 255 "
   ]
  },
  {
   "cell_type": "code",
   "execution_count": 19,
   "id": "1060bd0d",
   "metadata": {},
   "outputs": [],
   "source": [
    "##lets encode the labels \n",
    "from keras.utils import to_categorical\n",
    "\n",
    "train_labels = to_categorical(train_labels)\n",
    "test_labels = to_categorical(test_labels)"
   ]
  },
  {
   "cell_type": "code",
   "execution_count": 21,
   "id": "2fcc0fb3",
   "metadata": {},
   "outputs": [
    {
     "name": "stdout",
     "output_type": "stream",
     "text": [
      "Epoch 1/5\n",
      "469/469 [==============================] - 6s 11ms/step - loss: 2.2399 - accuracy: 0.2447\n",
      "Epoch 2/5\n",
      "469/469 [==============================] - 8s 16ms/step - loss: 1.6984 - accuracy: 0.5767\n",
      "Epoch 3/5\n",
      "469/469 [==============================] - 5s 10ms/step - loss: 1.0733 - accuracy: 0.7419\n",
      "Epoch 4/5\n",
      "469/469 [==============================] - 7s 15ms/step - loss: 0.7687 - accuracy: 0.8083\n",
      "Epoch 5/5\n",
      "469/469 [==============================] - 7s 15ms/step - loss: 0.6177 - accuracy: 0.8369\n"
     ]
    },
    {
     "data": {
      "text/plain": [
       "<keras.callbacks.History at 0x22d010417f0>"
      ]
     },
     "execution_count": 21,
     "metadata": {},
     "output_type": "execute_result"
    }
   ],
   "source": [
    "##Now we are Ready to train oour Network \n",
    "\n",
    "\n",
    "network.fit(train_images, train_labels, epochs=5 , batch_size=128) #You canm give epoch val;ue according to your need and the model accuracy"
   ]
  },
  {
   "cell_type": "code",
   "execution_count": 22,
   "id": "e9f2d692",
   "metadata": {},
   "outputs": [
    {
     "name": "stdout",
     "output_type": "stream",
     "text": [
      "313/313 [==============================] - 1s 2ms/step - loss: 52.1340 - accuracy: 0.7226\n"
     ]
    }
   ],
   "source": [
    "## lets test the accuracy \n",
    "test_loss , test_acc = network.evaluate(test_images, test_labels)"
   ]
  },
  {
   "cell_type": "code",
   "execution_count": 23,
   "id": "3ecd3915",
   "metadata": {},
   "outputs": [
    {
     "name": "stdout",
     "output_type": "stream",
     "text": [
      "test_acc 0.722599983215332\n"
     ]
    }
   ],
   "source": [
    "print('test_acc', test_acc)"
   ]
  },
  {
   "cell_type": "code",
   "execution_count": 24,
   "id": "1cae817f",
   "metadata": {},
   "outputs": [],
   "source": [
    "# the more we work on our epoch values way and way the more it will be accurate"
   ]
  },
  {
   "cell_type": "code",
   "execution_count": null,
   "id": "dfe6858b",
   "metadata": {},
   "outputs": [],
   "source": [
    "Our tets accurcy turns out to be 72.2% "
   ]
  },
  {
   "cell_type": "code",
   "execution_count": null,
   "id": "a2c19c3e",
   "metadata": {},
   "outputs": [],
   "source": [
    "## NEXT WE WILL BE WORKING ON CLSSIFICATION "
   ]
  },
  {
   "cell_type": "code",
   "execution_count": null,
   "id": "5abb8301",
   "metadata": {},
   "outputs": [],
   "source": []
  }
 ],
 "metadata": {
  "kernelspec": {
   "display_name": "Python 3 (ipykernel)",
   "language": "python",
   "name": "python3"
  },
  "language_info": {
   "codemirror_mode": {
    "name": "ipython",
    "version": 3
   },
   "file_extension": ".py",
   "mimetype": "text/x-python",
   "name": "python",
   "nbconvert_exporter": "python",
   "pygments_lexer": "ipython3",
   "version": "3.9.12"
  }
 },
 "nbformat": 4,
 "nbformat_minor": 5
}
