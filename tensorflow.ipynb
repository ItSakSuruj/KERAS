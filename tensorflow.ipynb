{
 "cells": [
  {
   "cell_type": "code",
   "execution_count": 2,
   "id": "ea7da4bb",
   "metadata": {},
   "outputs": [
    {
     "name": "stdout",
     "output_type": "stream",
     "text": [
      "tf.Tensor(\n",
      "[[1.]\n",
      " [1.]], shape=(2, 1), dtype=float32)\n"
     ]
    }
   ],
   "source": [
    "import tensorflow as tf\n",
    "\n",
    "##installing command pip install tensorflow as tf\n",
    "\n",
    "x = tf.ones(shape=(2,1))\n",
    "print(x)"
   ]
  },
  {
   "cell_type": "code",
   "execution_count": 4,
   "id": "4d316c41",
   "metadata": {},
   "outputs": [
    {
     "name": "stdout",
     "output_type": "stream",
     "text": [
      "tf.Tensor(\n",
      "[[0.]\n",
      " [0.]], shape=(2, 1), dtype=float32)\n"
     ]
    }
   ],
   "source": [
    "x = tf.zeros(shape=(2,1))\n",
    "print(x)"
   ]
  },
  {
   "cell_type": "code",
   "execution_count": 6,
   "id": "ed4c68b2",
   "metadata": {},
   "outputs": [
    {
     "name": "stdout",
     "output_type": "stream",
     "text": [
      "tf.Tensor(\n",
      "[[ 0.33750895]\n",
      " [-0.733701  ]\n",
      " [ 0.8346589 ]], shape=(3, 1), dtype=float32)\n"
     ]
    }
   ],
   "source": [
    "#Random tensors\n",
    "\n",
    "x = tf.random.normal(shape=(3,1) , mean=0 , stddev=1.)\n",
    "print(x)"
   ]
  },
  {
   "cell_type": "code",
   "execution_count": 7,
   "id": "395024f5",
   "metadata": {},
   "outputs": [
    {
     "name": "stdout",
     "output_type": "stream",
     "text": [
      "tf.Tensor(\n",
      "[[0.00521505]\n",
      " [0.78875244]\n",
      " [0.84627557]], shape=(3, 1), dtype=float32)\n"
     ]
    }
   ],
   "source": [
    "x = tf.random.uniform(shape=(3,1) , minval=0 , maxval = 1)\n",
    "print(x)"
   ]
  },
  {
   "cell_type": "code",
   "execution_count": 10,
   "id": "b9367136",
   "metadata": {},
   "outputs": [
    {
     "name": "stdout",
     "output_type": "stream",
     "text": [
      "[[0. 1.]\n",
      " [1. 1.]]\n"
     ]
    }
   ],
   "source": [
    "import numpy as np\n",
    "x = np.ones(shape=(2,2))\n",
    "x[0,0] = 0.\n",
    "print(x)"
   ]
  },
  {
   "cell_type": "code",
   "execution_count": 12,
   "id": "29e4833f",
   "metadata": {},
   "outputs": [
    {
     "name": "stdout",
     "output_type": "stream",
     "text": [
      "<tf.Variable 'Variable:0' shape=(3, 1) dtype=float32, numpy=\n",
      "array([[-1.9685216],\n",
      "       [-2.0272224],\n",
      "       [ 0.4241248]], dtype=float32)>\n"
     ]
    }
   ],
   "source": [
    "#Creating tensorflow variable\n",
    "\n",
    "v = tf.Variable(initial_value = tf.random.normal(shape=(3,1)))\n",
    "print(v)"
   ]
  },
  {
   "cell_type": "code",
   "execution_count": 13,
   "id": "b59a4447",
   "metadata": {},
   "outputs": [
    {
     "data": {
      "text/plain": [
       "<tf.Variable 'UnreadVariable' shape=(3, 1) dtype=float32, numpy=\n",
       "array([[ 3.       ],\n",
       "       [-2.0272224],\n",
       "       [ 0.4241248]], dtype=float32)>"
      ]
     },
     "execution_count": 13,
     "metadata": {},
     "output_type": "execute_result"
    }
   ],
   "source": [
    "#Assigning a value to tensorflow\n",
    "\n",
    "v[0,0].assign(3.)"
   ]
  },
  {
   "cell_type": "code",
   "execution_count": 16,
   "id": "a433703b",
   "metadata": {},
   "outputs": [
    {
     "data": {
      "text/plain": [
       "<tf.Variable 'UnreadVariable' shape=(3, 1) dtype=float32, numpy=\n",
       "array([[ 4.       ],\n",
       "       [-1.0272224],\n",
       "       [ 1.4241248]], dtype=float32)>"
      ]
     },
     "execution_count": 16,
     "metadata": {},
     "output_type": "execute_result"
    }
   ],
   "source": [
    "#Using assign_add\n",
    "\n",
    "v.assign_add(tf.ones((3,1)))"
   ]
  },
  {
   "cell_type": "markdown",
   "id": "3d35f135",
   "metadata": {},
   "source": [
    "##Operations on Tensor"
   ]
  },
  {
   "cell_type": "code",
   "execution_count": 22,
   "id": "e2b2b22f",
   "metadata": {},
   "outputs": [],
   "source": [
    "a = tf.ones((2,3))\n",
    "b = tf.square(a)\n",
    "c = tf.sqrt(a)\n",
    "d = b + c\n",
    "e = b + c\n",
    "# e = tf.matmul(a,b)\n",
    "e *= d"
   ]
  },
  {
   "cell_type": "markdown",
   "id": "1973f1a0",
   "metadata": {},
   "source": [
    "Gradient tape Api"
   ]
  },
  {
   "cell_type": "code",
   "execution_count": 23,
   "id": "66acda3f",
   "metadata": {},
   "outputs": [],
   "source": [
    "#lets work with gradient api using gradient api\n",
    "\n",
    "input_var = tf.Variable(initial_value=3.)\n",
    "with tf.GradientTape() as tape:\n",
    "    result = tf.square(input_var)\n",
    "gradient = tape.gradient(result, input_var)"
   ]
  },
  {
   "cell_type": "markdown",
   "id": "513aaf95",
   "metadata": {},
   "source": [
    "#Using GradientTape with constant tensor inputs"
   ]
  },
  {
   "cell_type": "code",
   "execution_count": 24,
   "id": "058376a3",
   "metadata": {},
   "outputs": [],
   "source": [
    "input_const = tf.constant(3.)\n",
    "with tf.GradientTape() as tape:\n",
    "    tape.watch(input_const)\n",
    "gradient = tape.gradient(result, input_const)"
   ]
  },
  {
   "cell_type": "markdown",
   "id": "60cb97c5",
   "metadata": {},
   "source": [
    "#Using nested gradienttapes to compute second-order gradients"
   ]
  },
  {
   "cell_type": "code",
   "execution_count": 34,
   "id": "f7be6128",
   "metadata": {},
   "outputs": [
    {
     "name": "stdout",
     "output_type": "stream",
     "text": [
      "speed: 0.0\n"
     ]
    }
   ],
   "source": [
    "#little change in the code\n",
    "\n",
    "time = tf.Variable(0.)\n",
    "with tf.GradientTape() as outer_tape:\n",
    "    with tf.GradientTape() as inner_tape:\n",
    "        position = 4.9 * time ** 2\n",
    "        \n",
    "speed = inner_tape.gradient(position, time)\n",
    "acceleration = outer_tape.gradient(speed, time)\n",
    "       \n",
    "\n",
    "print(\"speed:\", speed.numpy())\n",
    "    \n"
   ]
  },
  {
   "cell_type": "code",
   "execution_count": null,
   "id": "3b5f73c2",
   "metadata": {},
   "outputs": [],
   "source": []
  },
  {
   "cell_type": "code",
   "execution_count": null,
   "id": "72918d60",
   "metadata": {},
   "outputs": [],
   "source": []
  },
  {
   "cell_type": "code",
   "execution_count": null,
   "id": "3089449e",
   "metadata": {},
   "outputs": [],
   "source": []
  },
  {
   "cell_type": "code",
   "execution_count": null,
   "id": "1cbee9b6",
   "metadata": {},
   "outputs": [],
   "source": []
  }
 ],
 "metadata": {
  "kernelspec": {
   "display_name": "Python 3 (ipykernel)",
   "language": "python",
   "name": "python3"
  },
  "language_info": {
   "codemirror_mode": {
    "name": "ipython",
    "version": 3
   },
   "file_extension": ".py",
   "mimetype": "text/x-python",
   "name": "python",
   "nbconvert_exporter": "python",
   "pygments_lexer": "ipython3",
   "version": "3.9.12"
  }
 },
 "nbformat": 4,
 "nbformat_minor": 5
}
